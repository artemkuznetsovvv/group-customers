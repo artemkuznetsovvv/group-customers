{
 "cells": [
  {
   "cell_type": "code",
   "execution_count": 62,
   "id": "b5c92e5a",
   "metadata": {},
   "outputs": [],
   "source": [
    "def group_count(n_customers, n_first_id = 0): \n",
    "    def number_sum(n): # подсчет суммы цифр числа\n",
    "        return sum(map(int, str(n))) \n",
    "    \n",
    "    dict_group = {} # результат работы функции - словарь,\n",
    "    # где ключом будет группа, а значением количество членов группы\n",
    "    for i in range(n_first_id, n_customers + 1): \n",
    "        if number_sum(i) in dict_group: # если группа с таким номером была,\n",
    "        # то прибавляем к ней одного члена\n",
    "            dict_group[number_sum(i)] += 1\n",
    "        else: # если группы с таким номером ещё не было, то создаем её\n",
    "            dict_group[number_sum(i)] = 1\n",
    "    return dict_group"
   ]
  },
  {
   "cell_type": "markdown",
   "id": "0e548b55",
   "metadata": {},
   "source": [
    "###  Задача №1\n",
    "#### Условие: \n",
    "Функция, которая подсчитывает число покупателей, попадающих в каждую группу, если нумерация ID сквозная и начинается с 0. На вход функция получает целое число n_customers (количество клиентов). \n",
    "#### Решение: \n",
    "Решение обеих задач было объединено в общий случай засчет добавления в функцию необязательного параметра *n_first_id*, который по умолчанию равен 0, т.е. для решения первой задачи."
   ]
  },
  {
   "cell_type": "code",
   "execution_count": 64,
   "id": "31b3745f",
   "metadata": {},
   "outputs": [
    {
     "data": {
      "text/plain": [
       "{0: 1,\n",
       " 1: 3,\n",
       " 2: 3,\n",
       " 3: 4,\n",
       " 4: 5,\n",
       " 5: 6,\n",
       " 6: 7,\n",
       " 7: 8,\n",
       " 8: 9,\n",
       " 9: 10,\n",
       " 10: 9,\n",
       " 11: 8,\n",
       " 12: 7,\n",
       " 13: 6,\n",
       " 14: 5,\n",
       " 15: 4,\n",
       " 16: 3,\n",
       " 17: 2,\n",
       " 18: 1}"
      ]
     },
     "execution_count": 64,
     "metadata": {},
     "output_type": "execute_result"
    }
   ],
   "source": [
    "group_count(100)"
   ]
  },
  {
   "cell_type": "markdown",
   "id": "0fa95349",
   "metadata": {},
   "source": [
    "###  Задача №2\n",
    "#### Условие: \n",
    "Функция, аналогичная первой, если ID начинается с произвольного числа. На вход функция получает целые числа: n_customers (количество клиентов) и n_first_id (первый ID в последовательности).\n",
    "#### Решение: \n",
    "Для решения второй задачи, достаточно задать значение первого ID в той же функции. "
   ]
  },
  {
   "cell_type": "code",
   "execution_count": 67,
   "id": "55014ca3",
   "metadata": {},
   "outputs": [
    {
     "data": {
      "text/plain": [
       "{5: 1,\n",
       " 6: 2,\n",
       " 7: 3,\n",
       " 8: 4,\n",
       " 9: 5,\n",
       " 10: 5,\n",
       " 11: 5,\n",
       " 12: 5,\n",
       " 13: 5,\n",
       " 14: 5,\n",
       " 15: 4,\n",
       " 16: 3,\n",
       " 17: 2,\n",
       " 18: 1,\n",
       " 1: 1}"
      ]
     },
     "execution_count": 67,
     "metadata": {},
     "output_type": "execute_result"
    }
   ],
   "source": [
    "group_count(100, 50)"
   ]
  }
 ],
 "metadata": {
  "kernelspec": {
   "display_name": "Python 3 (ipykernel)",
   "language": "python",
   "name": "python3"
  },
  "language_info": {
   "codemirror_mode": {
    "name": "ipython",
    "version": 3
   },
   "file_extension": ".py",
   "mimetype": "text/x-python",
   "name": "python",
   "nbconvert_exporter": "python",
   "pygments_lexer": "ipython3",
   "version": "3.10.4"
  }
 },
 "nbformat": 4,
 "nbformat_minor": 5
}
